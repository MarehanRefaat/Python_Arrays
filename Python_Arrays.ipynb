{
 "cells": [
  {
   "cell_type": "markdown",
   "id": "b2d99e11",
   "metadata": {},
   "source": [
    "# What is an Array?"
   ]
  },
  {
   "cell_type": "code",
   "execution_count": 2,
   "id": "5da57451",
   "metadata": {},
   "outputs": [],
   "source": [
    "name1 = 'Ahmed'\n",
    "name2 = 'Ali'\n",
    "name3 = 'Manar'"
   ]
  },
  {
   "cell_type": "code",
   "execution_count": 3,
   "id": "c21894dc",
   "metadata": {},
   "outputs": [],
   "source": [
    "names = ['Ahmed','Ali','Manar']"
   ]
  },
  {
   "cell_type": "markdown",
   "id": "c07413f5",
   "metadata": {},
   "source": [
    "# Access the Elements of an Array"
   ]
  },
  {
   "cell_type": "code",
   "execution_count": 5,
   "id": "83ad6865",
   "metadata": {},
   "outputs": [
    {
     "name": "stdout",
     "output_type": "stream",
     "text": [
      "Ali\n"
     ]
    }
   ],
   "source": [
    "x = names[1]\n",
    "print(x)"
   ]
  },
  {
   "cell_type": "markdown",
   "id": "9e220d54",
   "metadata": {},
   "source": [
    "# Modify a value in the array "
   ]
  },
  {
   "cell_type": "code",
   "execution_count": 8,
   "id": "685c3482",
   "metadata": {},
   "outputs": [
    {
     "name": "stdout",
     "output_type": "stream",
     "text": [
      "['John', 'Ali', 'Manar']\n"
     ]
    }
   ],
   "source": [
    "names[0] = \"John\"\n",
    "print(names)"
   ]
  },
  {
   "cell_type": "markdown",
   "id": "fb70923e",
   "metadata": {},
   "source": [
    "# The Length of an Array"
   ]
  },
  {
   "cell_type": "code",
   "execution_count": 10,
   "id": "3313ccb5",
   "metadata": {},
   "outputs": [
    {
     "name": "stdout",
     "output_type": "stream",
     "text": [
      "3\n"
     ]
    }
   ],
   "source": [
    "x = len(names)\n",
    "print(x)"
   ]
  },
  {
   "cell_type": "markdown",
   "id": "20364da4",
   "metadata": {},
   "source": [
    "# Looping Array Elements"
   ]
  },
  {
   "cell_type": "code",
   "execution_count": 11,
   "id": "4417e279",
   "metadata": {},
   "outputs": [
    {
     "name": "stdout",
     "output_type": "stream",
     "text": [
      "John\n",
      "Ali\n",
      "Manar\n"
     ]
    }
   ],
   "source": [
    "for i in names:\n",
    "  print(i)"
   ]
  },
  {
   "cell_type": "markdown",
   "id": "cd7bc24a",
   "metadata": {},
   "source": [
    "# Adding Array Elements"
   ]
  },
  {
   "cell_type": "code",
   "execution_count": 19,
   "id": "c70ec505",
   "metadata": {},
   "outputs": [
    {
     "name": "stdout",
     "output_type": "stream",
     "text": [
      "['John', 'Ali', 'Manar', 'Hoda']\n"
     ]
    }
   ],
   "source": [
    "names.append(\"Hoda\")\n",
    "print(names)"
   ]
  },
  {
   "cell_type": "markdown",
   "id": "ba6b35a7",
   "metadata": {},
   "source": [
    "# Removing Array Elements"
   ]
  },
  {
   "cell_type": "code",
   "execution_count": 20,
   "id": "062e06af",
   "metadata": {},
   "outputs": [
    {
     "name": "stdout",
     "output_type": "stream",
     "text": [
      "['John', 'Ali', 'Manar']\n"
     ]
    }
   ],
   "source": [
    "names.remove(\"Hoda\")\n",
    "print(names)"
   ]
  }
 ],
 "metadata": {
  "kernelspec": {
   "display_name": "Python 3 (ipykernel)",
   "language": "python",
   "name": "python3"
  },
  "language_info": {
   "codemirror_mode": {
    "name": "ipython",
    "version": 3
   },
   "file_extension": ".py",
   "mimetype": "text/x-python",
   "name": "python",
   "nbconvert_exporter": "python",
   "pygments_lexer": "ipython3",
   "version": "3.7.11"
  }
 },
 "nbformat": 4,
 "nbformat_minor": 5
}
